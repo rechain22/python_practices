{
 "cells": [
  {
   "cell_type": "code",
   "execution_count": 1,
   "metadata": {},
   "outputs": [
    {
     "name": "stdout",
     "output_type": "stream",
     "text": [
      "[['Hi 1', 'Hi 2', 'Hello 3'], [10.0, 20.0, 30.0]]\n"
     ]
    }
   ],
   "source": [
    "import xlwings as xw\n",
    "\n",
    "wb = xw.Book(\"new.xlsx\")\n",
    "sheet = wb.sheets[\"Sheet1\"]\n",
    "sheet.range(\"A1\").value = [[\"Hi 1\", \"Hi 2\", \"Hello 3\"], [10.0, 20.0, 30.0]]\n",
    "print(sheet.range(\"A1\").expand().value)"
   ]
  },
  {
   "cell_type": "code",
   "execution_count": 26,
   "metadata": {},
   "outputs": [],
   "source": [
    "import xlwings as xw\n",
    "wb = xw.Book(\"new.xlsx\")\n",
    "sheet = wb.sheets[\"Sheet1\"]"
   ]
  },
  {
   "cell_type": "code",
   "execution_count": 27,
   "metadata": {},
   "outputs": [],
   "source": [
    "xw.Range(\"A1:B2\").columns.autofit()\n",
    "xw.Range(\"A1:A3\").merge()\n",
    "\n",
    "\n",
    "sheet.range(\"A1\").value = \"项目123456123456\"\n",
    "sheet.range(\"A1\").api.HorizontalAlignment = xw.constants.HAlign.xlHAlignCenter # 居中\n",
    "sheet.range(\"A1\").api.VerticalAlignment = xw.constants.HAlign.xlHAlignCenter\n",
    "xw.Range(\"A1\").color = (255, 255, 100) # background\n",
    "sheet[\"A1\"].font.color = (255, 0, 120)\n",
    "sheet[\"A1\"].font.bold = True\n",
    "wb = xw.books.active\n",
    "active_window = wb.app.api.ActiveWindow\n",
    "active_window.FreezePanes = False\n",
    "active_window.SplitColumn = 1\n",
    "active_window.SplitRow = 0\n",
    "active_window.FreezePanes = True"
   ]
  },
  {
   "cell_type": "code",
   "execution_count": 32,
   "metadata": {},
   "outputs": [],
   "source": [
    "import xlwings as xw\n",
    "import calendar\n",
    "import datetime\n",
    "import locale\n",
    "\n",
    "wb = xw.Book(\"new.xlsx\")\n",
    "\n",
    "wb = xw.books.active\n",
    "active_window = wb.app.api.ActiveWindow\n",
    "active_window.FreezePanes = False\n",
    "active_window.SplitColumn = 1\n",
    "active_window.SplitRow = 0\n",
    "active_window.FreezePanes = True\n",
    "\n",
    "\n",
    "sheet = wb.sheets[\"Sheet1\"]\n",
    "locale.setlocale(locale.LC_ALL, \"zh_CN.UTF8\")\n",
    "sheet.range(\"B1\").value = datetime.date.today().strftime(\"%B\")"
   ]
  },
  {
   "cell_type": "code",
   "execution_count": 33,
   "metadata": {},
   "outputs": [
    {
     "name": "stdout",
     "output_type": "stream",
     "text": [
      "7\n"
     ]
    }
   ],
   "source": [
    "month = datetime.date.today().month\n",
    "print(month)\n",
    "cal = calendar.Calendar()\n",
    "days = cal.itermonthdays(2022, 7)\n",
    "len_month = 0\n",
    "for day in days:\n",
    "    if day != 0:\n",
    "        xw.Range((2,1+day)).value = day\n",
    "        len_month += 1\n",
    "row_day = xw.Range(\"B2\").expand('table')\n",
    "row_day.columns.autofit()\n",
    "row_day.api.HorizontalAlignment = xw.constants.HAlign.xlHAlignCenter"
   ]
  },
  {
   "cell_type": "code",
   "execution_count": 34,
   "metadata": {},
   "outputs": [],
   "source": [
    "month_merge_range = xw.Range((1,2),(1,1 + len_month))\n",
    "month_merge_range.merge()\n",
    "month_merge_range.api.HorizontalAlignment = xw.constants.HAlign.xlHAlignCenter"
   ]
  },
  {
   "cell_type": "code",
   "execution_count": 56,
   "metadata": {},
   "outputs": [],
   "source": [
    "project1_name = sheet.range(\"A3\")\n",
    "project1_name.value = \"Python Gantt\"\n",
    "project1_name.font.color = (167, 96, 255)\n",
    "project1_name.font.bold = True\n",
    "project1_name.autofit()\n",
    "project1_name.api.HorizontalAlignment = xw.constants.HAlign.xlHAlignCenter\n",
    "\n",
    "start = 11\n",
    "day = datetime.date.today().day\n",
    "project1_dayrange = sheet.range((3,11+1), (3,day+1))\n",
    "project1_dayrange.color = (255,204,143)"
   ]
  },
  {
   "cell_type": "code",
   "execution_count": null,
   "metadata": {},
   "outputs": [],
   "source": []
  }
 ],
 "metadata": {
  "kernelspec": {
   "display_name": "Python 3.10.5 64-bit",
   "language": "python",
   "name": "python3"
  },
  "language_info": {
   "codemirror_mode": {
    "name": "ipython",
    "version": 3
   },
   "file_extension": ".py",
   "mimetype": "text/x-python",
   "name": "python",
   "nbconvert_exporter": "python",
   "pygments_lexer": "ipython3",
   "version": "3.10.5"
  },
  "orig_nbformat": 4,
  "vscode": {
   "interpreter": {
    "hash": "8036d4a22df4b328cea8d74886d17ef6db88ef52894febe8f911a56168059992"
   }
  }
 },
 "nbformat": 4,
 "nbformat_minor": 2
}
